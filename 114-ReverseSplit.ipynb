{
 "cells": [
  {
   "cell_type": "code",
   "execution_count": 1,
   "metadata": {
    "collapsed": true
   },
   "outputs": [],
   "source": [
    "import re\n",
    "\n",
    "def split_reverse(string, delimiters):    \n",
    "    pattern = \"([\" + delimiters +\"])\"\n",
    "    split_words = re.split(pattern, string)\n",
    "    \n",
    "    # find indexes of words\n",
    "    word_indexes = []\n",
    "    for i, e in enumerate(split_words):\n",
    "        if e and e not in delimiters:\n",
    "            word_indexes.append(i)\n",
    "\n",
    "    # swap the words, and keep the rest untouched\n",
    "    res = split_words[:]\n",
    "    n = len(word_indexes)\n",
    "    for i in range(n//2):\n",
    "        res[word_indexes[i]], res[word_indexes[n-1-i]] = res[word_indexes[n-1-i]], res[word_indexes[i]]\n",
    "    \n",
    "    return \"\".join(res)"
   ]
  },
  {
   "cell_type": "code",
   "execution_count": 2,
   "metadata": {},
   "outputs": [
    {
     "name": "stdout",
     "output_type": "stream",
     "text": [
      "hello/world:here\n",
      "here/world:hello\n",
      "hello/world:here/\n",
      "here/world:hello/\n",
      "hello//world:here\n",
      "here//world:hello\n"
     ]
    }
   ],
   "source": [
    "strings = [\"hello/world:here\", \"hello/world:here/\", \"hello//world:here\"]\n",
    "for s in strings:\n",
    "    print(s)\n",
    "    print(split_reverse(s, \"/:\"))\n"
   ]
  },
  {
   "cell_type": "code",
   "execution_count": 3,
   "metadata": {
    "collapsed": true
   },
   "outputs": [],
   "source": [
    "import re\n",
    "\n",
    "def split_reverse_2(string, delimiters):\n",
    "    # Parse the string into words between delimiters using regex\n",
    "    # Keep adjacent delimiters together (\"greedy match\")\n",
    "    words = re.split('[' + delimiters + ']+', string)\n",
    "    not_words = re.split('[^(' + delimiters + ')]+', string)\n",
    "    if len(words) > 0 and words[-1] == '':\n",
    "        words = words[:-1]\n",
    "    # Reverse the list of words and convert to an iterator\n",
    "    word_iter = reversed(words)\n",
    "\n",
    "    output = []\n",
    "    for d in not_words:\n",
    "        output.append(d)\n",
    "        try:\n",
    "            output.append(next(word_iter))\n",
    "        except StopIteration:\n",
    "            pass\n",
    "\n",
    "    return ''.join(output)"
   ]
  },
  {
   "cell_type": "code",
   "execution_count": 4,
   "metadata": {},
   "outputs": [
    {
     "name": "stdout",
     "output_type": "stream",
     "text": [
      "hello/world:here\n",
      "here/world:hello\n",
      "hello/world:here/\n",
      "here/world:hello/\n",
      "hello//world:here\n",
      "here//world:hello\n"
     ]
    }
   ],
   "source": [
    "for s in strings:\n",
    "    print(s)\n",
    "    print(split_reverse_2(s, \"/:\"))\n"
   ]
  },
  {
   "cell_type": "code",
   "execution_count": null,
   "metadata": {
    "collapsed": true
   },
   "outputs": [],
   "source": []
  }
 ],
 "metadata": {
  "kernelspec": {
   "display_name": "Python 3",
   "language": "python",
   "name": "python3"
  },
  "language_info": {
   "codemirror_mode": {
    "name": "ipython",
    "version": 3
   },
   "file_extension": ".py",
   "mimetype": "text/x-python",
   "name": "python",
   "nbconvert_exporter": "python",
   "pygments_lexer": "ipython3",
   "version": "3.6.2"
  }
 },
 "nbformat": 4,
 "nbformat_minor": 2
}
