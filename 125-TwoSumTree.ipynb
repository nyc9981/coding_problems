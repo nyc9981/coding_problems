{
 "cells": [
  {
   "cell_type": "code",
   "execution_count": 1,
   "metadata": {
    "collapsed": true
   },
   "outputs": [],
   "source": [
    "def two_sum_tree(k, root):\n",
    "    seen = {}\n",
    "    \n",
    "    for node in gen_tree(root):\n",
    "        if k - node.val in seen:\n",
    "            return (seen[k - node.val], node)\n",
    "        seen[node.val] = node\n",
    "        \n",
    "    return None\n",
    "\n",
    "def gen_tree(root):\n",
    "    if root:    \n",
    "        for node in gen_tree(root.left):\n",
    "            yield node\n",
    "\n",
    "        yield root\n",
    "\n",
    "        for node in gen_tree(root.right):\n",
    "            yield node\n",
    "    "
   ]
  },
  {
   "cell_type": "code",
   "execution_count": null,
   "metadata": {
    "collapsed": true
   },
   "outputs": [],
   "source": []
  }
 ],
 "metadata": {
  "kernelspec": {
   "display_name": "Python 3",
   "language": "python",
   "name": "python3"
  },
  "language_info": {
   "codemirror_mode": {
    "name": "ipython",
    "version": 3
   },
   "file_extension": ".py",
   "mimetype": "text/x-python",
   "name": "python",
   "nbconvert_exporter": "python",
   "pygments_lexer": "ipython3",
   "version": "3.6.2"
  }
 },
 "nbformat": 4,
 "nbformat_minor": 2
}
