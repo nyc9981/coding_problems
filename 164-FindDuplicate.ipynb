{
 "cells": [
  {
   "cell_type": "code",
   "execution_count": 1,
   "metadata": {
    "collapsed": true
   },
   "outputs": [],
   "source": [
    "def find_duplicate(lst):\n",
    "    \n",
    "    i = 0\n",
    "    while i < len(lst):\n",
    "        if i == lst[i]:\n",
    "            i += 1\n",
    "        else:\n",
    "            j = lst[i]\n",
    "            # before swapping, check if already there\n",
    "            # i.e. if it is a duplicate\n",
    "            if j == lst[j]:\n",
    "                return j\n",
    "            else:\n",
    "                lst[i], lst[j] = lst[j], lst[i]\n",
    "    return None"
   ]
  },
  {
   "cell_type": "code",
   "execution_count": 2,
   "metadata": {},
   "outputs": [
    {
     "data": {
      "text/plain": [
       "3"
      ]
     },
     "execution_count": 2,
     "metadata": {},
     "output_type": "execute_result"
    }
   ],
   "source": [
    "b = [0, 2, 3, 1, 3, 4]\n",
    "find_duplicate(b)"
   ]
  },
  {
   "cell_type": "code",
   "execution_count": 3,
   "metadata": {},
   "outputs": [],
   "source": [
    "a = [0, 2, 3, 1, 4]\n",
    "find_duplicate(a)"
   ]
  },
  {
   "cell_type": "code",
   "execution_count": null,
   "metadata": {
    "collapsed": true
   },
   "outputs": [],
   "source": []
  }
 ],
 "metadata": {
  "kernelspec": {
   "display_name": "Python 3",
   "language": "python",
   "name": "python3"
  },
  "language_info": {
   "codemirror_mode": {
    "name": "ipython",
    "version": 3
   },
   "file_extension": ".py",
   "mimetype": "text/x-python",
   "name": "python",
   "nbconvert_exporter": "python",
   "pygments_lexer": "ipython3",
   "version": "3.6.2"
  }
 },
 "nbformat": 4,
 "nbformat_minor": 2
}
