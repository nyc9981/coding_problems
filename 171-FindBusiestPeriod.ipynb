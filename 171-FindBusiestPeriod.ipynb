{
 "cells": [
  {
   "cell_type": "code",
   "execution_count": 1,
   "metadata": {
    "collapsed": true
   },
   "outputs": [],
   "source": [
    "def find_busiest_period(entries):\n",
    "    # sort entries by their timestamps\n",
    "    sorted_entries = sorted(entries, key=lambda entry: entry[\"timestamp\"])\n",
    "    \n",
    "    # track max num of people and its time period\n",
    "    max_num_people = 0\n",
    "    num_people = 0\n",
    "    max_period = (None, None)\n",
    "    \n",
    "    for i, entry in enumerate(sorted_entries):\n",
    "        if entry[\"type\"] == \"enter\":\n",
    "            num_people += entry[\"count\"]\n",
    "        elif entry[\"type\"] == \"exit\":\n",
    "            num_people -= entry[\"count\"]\n",
    "        else: \n",
    "            raise Exception(\"Invaid Entry\")\n",
    "            \n",
    "        if num_people > max_num_people:\n",
    "            max_num_people = num_people\n",
    "            max_period = (entry[\"timestamp\"], sorted_entries[i+1][\"timestamp\"])\n",
    "    \n",
    "    return max_period"
   ]
  },
  {
   "cell_type": "code",
   "execution_count": null,
   "metadata": {
    "collapsed": true
   },
   "outputs": [],
   "source": []
  }
 ],
 "metadata": {
  "kernelspec": {
   "display_name": "Python 3",
   "language": "python",
   "name": "python3"
  },
  "language_info": {
   "codemirror_mode": {
    "name": "ipython",
    "version": 3
   },
   "file_extension": ".py",
   "mimetype": "text/x-python",
   "name": "python",
   "nbconvert_exporter": "python",
   "pygments_lexer": "ipython3",
   "version": "3.6.2"
  }
 },
 "nbformat": 4,
 "nbformat_minor": 2
}
