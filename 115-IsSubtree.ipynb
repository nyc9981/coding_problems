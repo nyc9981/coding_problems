{
 "cells": [
  {
   "cell_type": "code",
   "execution_count": 1,
   "metadata": {
    "collapsed": true
   },
   "outputs": [],
   "source": [
    "# binary tree structure: value, left, right\n",
    "def is_subtree(t, s):\n",
    "    \n",
    "    def is_equal(t1, t2):\n",
    "        if t1 is t2:\n",
    "            return True\n",
    "\n",
    "        if t1 is None and t2 is None:\n",
    "            return True\n",
    "\n",
    "        if t1 is None or t2 is None:\n",
    "            return False\n",
    "\n",
    "        return t1.value == t2.value and is_equal(t1.left, t2.left) and is_equal(t1.right, t2.right)\n",
    "    \n",
    "    return is_equal(t, s) or is_equal(t, s.left) or is_equal(t, s.right)"
   ]
  },
  {
   "cell_type": "code",
   "execution_count": null,
   "metadata": {
    "collapsed": true
   },
   "outputs": [],
   "source": []
  }
 ],
 "metadata": {
  "kernelspec": {
   "display_name": "Python 3",
   "language": "python",
   "name": "python3"
  },
  "language_info": {
   "codemirror_mode": {
    "name": "ipython",
    "version": 3
   },
   "file_extension": ".py",
   "mimetype": "text/x-python",
   "name": "python",
   "nbconvert_exporter": "python",
   "pygments_lexer": "ipython3",
   "version": "3.6.2"
  }
 },
 "nbformat": 4,
 "nbformat_minor": 2
}
