{
 "cells": [
  {
   "cell_type": "code",
   "execution_count": 1,
   "metadata": {
    "collapsed": true
   },
   "outputs": [],
   "source": [
    "def count_states(states, start, num_steps):\n",
    "    count = defaultdict(int)\n",
    "    current = start\n",
    "\n",
    "    for i in range(num_steps):\n",
    "        count[current] += 1\n",
    "        current = next_state(states, current)\n",
    "        \n",
    "    return count\n",
    "\n",
    "def next_state(states, start):\n",
    "    p = random.random()\n",
    "    trandformed_states = transform_states(states)\n",
    "    for possible_next, prob in trandformed_states[start].items():\n",
    "        p -= prob\n",
    "        if p <= 0:\n",
    "            return possible_next\n",
    "\n",
    "        \n",
    "def transform_states(states):\n",
    "    \n",
    "    transformed_states = defaultdict(dict)\n",
    "    \n",
    "    for start, end, prob in states:\n",
    "        # need to change\n",
    "        transformed_states[start][end] = prob\n",
    "        \n",
    "    return transformed_states\n",
    "    "
   ]
  },
  {
   "cell_type": "code",
   "execution_count": null,
   "metadata": {
    "collapsed": true
   },
   "outputs": [],
   "source": []
  }
 ],
 "metadata": {
  "kernelspec": {
   "display_name": "Python 3",
   "language": "python",
   "name": "python3"
  },
  "language_info": {
   "codemirror_mode": {
    "name": "ipython",
    "version": 3
   },
   "file_extension": ".py",
   "mimetype": "text/x-python",
   "name": "python",
   "nbconvert_exporter": "python",
   "pygments_lexer": "ipython3",
   "version": "3.6.2"
  }
 },
 "nbformat": 4,
 "nbformat_minor": 2
}
