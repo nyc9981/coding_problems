{
 "cells": [
  {
   "cell_type": "code",
   "execution_count": 1,
   "metadata": {},
   "outputs": [
    {
     "name": "stdout",
     "output_type": "stream",
     "text": [
      "<__main__.TwoInstanceSingeleton object at 0x10904a780>\n",
      "<__main__.TwoInstanceSingeleton object at 0x10904a6a0>\n",
      "<__main__.TwoInstanceSingeleton object at 0x10904a780>\n",
      "<__main__.TwoInstanceSingeleton object at 0x10904a6a0>\n"
     ]
    },
    {
     "ename": "Exception",
     "evalue": "This class only allows two instances!",
     "output_type": "error",
     "traceback": [
      "\u001b[0;31m---------------------------------------------------------------------------\u001b[0m",
      "\u001b[0;31mException\u001b[0m                                 Traceback (most recent call last)",
      "\u001b[0;32m<ipython-input-1-a792b2f941bf>\u001b[0m in \u001b[0;36m<module>\u001b[0;34m()\u001b[0m\n\u001b[1;32m     55\u001b[0m \u001b[0;34m\u001b[0m\u001b[0m\n\u001b[1;32m     56\u001b[0m \u001b[0;34m\u001b[0m\u001b[0m\n\u001b[0;32m---> 57\u001b[0;31m \u001b[0ms\u001b[0m \u001b[0;34m=\u001b[0m \u001b[0mTwoInstanceSingeleton\u001b[0m\u001b[0;34m(\u001b[0m\u001b[0;34m)\u001b[0m \u001b[0;31m# Ok\u001b[0m\u001b[0;34m\u001b[0m\u001b[0m\n\u001b[0m\u001b[1;32m     58\u001b[0m \u001b[0;31m#will raise exception\u001b[0m\u001b[0;34m\u001b[0m\u001b[0;34m\u001b[0m\u001b[0m\n\u001b[1;32m     59\u001b[0m \u001b[0mprint\u001b[0m\u001b[0;34m(\u001b[0m\u001b[0ms\u001b[0m\u001b[0;34m)\u001b[0m\u001b[0;34m\u001b[0m\u001b[0m\n",
      "\u001b[0;32m<ipython-input-1-a792b2f941bf>\u001b[0m in \u001b[0;36m__init__\u001b[0;34m(self)\u001b[0m\n\u001b[1;32m     19\u001b[0m         \u001b[0;34m\"\"\" Virtually private constructor. \"\"\"\u001b[0m\u001b[0;34m\u001b[0m\u001b[0m\n\u001b[1;32m     20\u001b[0m         \u001b[0;32mif\u001b[0m \u001b[0mTwoInstanceSingeleton\u001b[0m\u001b[0;34m.\u001b[0m\u001b[0m__calls\u001b[0m \u001b[0;34m>\u001b[0m \u001b[0;36m2\u001b[0m\u001b[0;34m:\u001b[0m\u001b[0;34m\u001b[0m\u001b[0m\n\u001b[0;32m---> 21\u001b[0;31m             \u001b[0;32mraise\u001b[0m \u001b[0mException\u001b[0m\u001b[0;34m(\u001b[0m\u001b[0;34m\"This class only allows two instances!\"\u001b[0m\u001b[0;34m)\u001b[0m\u001b[0;34m\u001b[0m\u001b[0m\n\u001b[0m\u001b[1;32m     22\u001b[0m         \u001b[0;32melif\u001b[0m \u001b[0mTwoInstanceSingeleton\u001b[0m\u001b[0;34m.\u001b[0m\u001b[0m__calls\u001b[0m \u001b[0;34m==\u001b[0m \u001b[0;36m2\u001b[0m\u001b[0;34m:\u001b[0m\u001b[0;34m\u001b[0m\u001b[0m\n\u001b[1;32m     23\u001b[0m             \u001b[0mTwoInstanceSingeleton\u001b[0m\u001b[0;34m.\u001b[0m\u001b[0m__instance_1\u001b[0m \u001b[0;34m=\u001b[0m \u001b[0mself\u001b[0m\u001b[0;34m\u001b[0m\u001b[0m\n",
      "\u001b[0;31mException\u001b[0m: This class only allows two instances!"
     ]
    }
   ],
   "source": [
    "class TwoInstanceSingeleton(object):\n",
    "    __instance_1, __instance_2, __calls = None, None, 0\n",
    "    \n",
    "    @staticmethod       \n",
    "    def getInstance():\n",
    "        TwoInstanceSingeleton.__calls += 1\n",
    "        \n",
    "        if TwoInstanceSingeleton.__calls % 2 == 0:\n",
    "            if TwoInstanceSingeleton.__instance_1 == None:\n",
    "                TwoInstanceSingeleton() \n",
    "            return TwoInstanceSingeleton.__instance_1\n",
    "        \n",
    "        else:\n",
    "            if TwoInstanceSingeleton.__instance_2 == None:\n",
    "                TwoInstanceSingeleton()\n",
    "            return TwoInstanceSingeleton.__instance_2\n",
    "    \n",
    "    def __init__(self):\n",
    "        \"\"\" Virtually private constructor. \"\"\"          \n",
    "        if TwoInstanceSingeleton.__calls > 2:\n",
    "            raise Exception(\"This class only allows two instances!\")\n",
    "        elif TwoInstanceSingeleton.__calls == 2:\n",
    "            TwoInstanceSingeleton.__instance_1 = self\n",
    "        elif TwoInstanceSingeleton.__calls == 1:\n",
    "            TwoInstanceSingeleton.__instance_2 = self\n",
    "\n",
    "            \n",
    "       \n",
    "\n",
    "        \n",
    "# A little testing\n",
    "\n",
    "#s = TwoInstanceSingeleton() # Ok\n",
    "#print(s)\n",
    "\n",
    "#s = TwoInstanceSingeleton() # Ok\n",
    "#print(s)\n",
    "\n",
    "#s = TwoInstanceSingeleton() # Ok\n",
    "#Singleton() # will raise exception\n",
    "#print(s)\n",
    "\n",
    "\n",
    "s = TwoInstanceSingeleton.getInstance()\n",
    "print(s)\n",
    "\n",
    "s = TwoInstanceSingeleton.getInstance()\n",
    "print(s)\n",
    "\n",
    "s = TwoInstanceSingeleton.getInstance()\n",
    "print(s)\n",
    "\n",
    "s = TwoInstanceSingeleton.getInstance()\n",
    "print(s)\n",
    "\n",
    "\n",
    "s = TwoInstanceSingeleton() # Ok\n",
    "#will raise exception\n",
    "print(s)"
   ]
  },
  {
   "cell_type": "code",
   "execution_count": null,
   "metadata": {
    "collapsed": true
   },
   "outputs": [],
   "source": [
    "'''\n",
    "# Java Implementation\n",
    "\n",
    "public class Service {\n",
    "   private static Service instanceOne = null;\n",
    "   private static Service instanceTwo = null;\n",
    "\n",
    "   private static int calls = 0;\n",
    "\n",
    "   private Service() {\n",
    "      // Disallow creation through the constructor\n",
    "   }\n",
    "\n",
    "   public static Service getInstance() {\n",
    "      if(instanceOne == null) {\n",
    "         instanceOne = new Service();\n",
    "         instanceTwo = new Service();\n",
    "      }\n",
    "\n",
    "      if (calls++ % 2 == 0) {\n",
    "        return instanceOne;\n",
    "      }\n",
    "      return instanceTwo;\n",
    "   }\n",
    "}\n",
    "'''"
   ]
  },
  {
   "cell_type": "code",
   "execution_count": null,
   "metadata": {
    "collapsed": true
   },
   "outputs": [],
   "source": []
  }
 ],
 "metadata": {
  "kernelspec": {
   "display_name": "Python 3",
   "language": "python",
   "name": "python3"
  },
  "language_info": {
   "codemirror_mode": {
    "name": "ipython",
    "version": 3
   },
   "file_extension": ".py",
   "mimetype": "text/x-python",
   "name": "python",
   "nbconvert_exporter": "python",
   "pygments_lexer": "ipython3",
   "version": "3.6.2"
  }
 },
 "nbformat": 4,
 "nbformat_minor": 2
}
