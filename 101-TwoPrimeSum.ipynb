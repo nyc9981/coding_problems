{
 "cells": [
  {
   "cell_type": "code",
   "execution_count": 1,
   "metadata": {
    "collapsed": true
   },
   "outputs": [],
   "source": [
    "def is_prime(n):\n",
    "    if n<2:\n",
    "        return False\n",
    "    \n",
    "    if n==2:\n",
    "        return True\n",
    "    \n",
    "    if not n&1: # even number\n",
    "        return False\n",
    "    \n",
    "    m = int(n**0.5)\n",
    "    \n",
    "    for i in range(3, m+1, 2):\n",
    "        if n%i == 0:\n",
    "            return False\n",
    "        \n",
    "    return True\n",
    "    \n",
    "# n is an even number and is larger than 2\n",
    "def two_prime_sum(n):\n",
    "    \n",
    "    for i in range(2, n//2):\n",
    "        if is_prime(i) and is_prime(n-i):\n",
    "            return i, n-i\n",
    "        \n"
   ]
  },
  {
   "cell_type": "code",
   "execution_count": 2,
   "metadata": {},
   "outputs": [
    {
     "data": {
      "text/plain": [
       "(5, 1217)"
      ]
     },
     "execution_count": 2,
     "metadata": {},
     "output_type": "execute_result"
    }
   ],
   "source": [
    "two_prime_sum(1222)"
   ]
  },
  {
   "cell_type": "code",
   "execution_count": null,
   "metadata": {
    "collapsed": true
   },
   "outputs": [],
   "source": []
  }
 ],
 "metadata": {
  "kernelspec": {
   "display_name": "Python 3",
   "language": "python",
   "name": "python3"
  },
  "language_info": {
   "codemirror_mode": {
    "name": "ipython",
    "version": 3
   },
   "file_extension": ".py",
   "mimetype": "text/x-python",
   "name": "python",
   "nbconvert_exporter": "python",
   "pygments_lexer": "ipython3",
   "version": "3.6.2"
  }
 },
 "nbformat": 4,
 "nbformat_minor": 2
}
