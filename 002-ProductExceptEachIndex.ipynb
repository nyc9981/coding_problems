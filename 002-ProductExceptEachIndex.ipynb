{
 "cells": [
  {
   "cell_type": "code",
   "execution_count": 1,
   "metadata": {
    "collapsed": true
   },
   "outputs": [],
   "source": [
    "# assume all integers\n",
    "def prod_except_i(arr):\n",
    "    prod = 1\n",
    "    for n in arr:\n",
    "        prod *= n\n",
    "    \n",
    "    res = []\n",
    "    for n in arr:\n",
    "        res.append(prod//n)\n",
    "        \n",
    "    return res"
   ]
  },
  {
   "cell_type": "code",
   "execution_count": 2,
   "metadata": {
    "collapsed": true
   },
   "outputs": [],
   "source": [
    "def prod_except_i_no_div(arr):\n",
    "    size = len(arr)\n",
    "    prefix_arr = [1]*size\n",
    "    suffix_arr = [1]*size\n",
    "    \n",
    "    for i in range(1, size):\n",
    "        prefix_arr[i] = prefix_arr[i-1] * arr[i-1] # starts with index of 1 forward\n",
    "        suffix_arr[-i-1] = suffix_arr[-i] * arr[-i] # starts with index of -2 backward\n",
    "    \n",
    "    res = [1]*size\n",
    "    for i in range(size):\n",
    "        res[i] *= prefix_arr[i] * suffix_arr[i]\n",
    "        \n",
    "    return res      "
   ]
  },
  {
   "cell_type": "code",
   "execution_count": 3,
   "metadata": {},
   "outputs": [
    {
     "name": "stdout",
     "output_type": "stream",
     "text": [
      "[120, 60, 40, 30, 24]\n",
      "[]\n",
      "[1]\n"
     ]
    }
   ],
   "source": [
    "a = [1,2,3,4,5]\n",
    "b = []\n",
    "c = [5]\n",
    "print(prod_except_i(a))\n",
    "print(prod_except_i(b))\n",
    "print(prod_except_i(c))"
   ]
  },
  {
   "cell_type": "code",
   "execution_count": 4,
   "metadata": {},
   "outputs": [
    {
     "name": "stdout",
     "output_type": "stream",
     "text": [
      "[120, 60, 40, 30, 24]\n",
      "[]\n",
      "[1]\n"
     ]
    }
   ],
   "source": [
    "a = [1,2,3,4,5]\n",
    "b = []\n",
    "c = [5]\n",
    "print(prod_except_i_no_div(a))\n",
    "print(prod_except_i_no_div(b))\n",
    "print(prod_except_i_no_div(c))"
   ]
  },
  {
   "cell_type": "code",
   "execution_count": null,
   "metadata": {
    "collapsed": true
   },
   "outputs": [],
   "source": []
  }
 ],
 "metadata": {
  "kernelspec": {
   "display_name": "Python 3",
   "language": "python",
   "name": "python3"
  },
  "language_info": {
   "codemirror_mode": {
    "name": "ipython",
    "version": 3
   },
   "file_extension": ".py",
   "mimetype": "text/x-python",
   "name": "python",
   "nbconvert_exporter": "python",
   "pygments_lexer": "ipython3",
   "version": "3.6.2"
  }
 },
 "nbformat": 4,
 "nbformat_minor": 2
}
