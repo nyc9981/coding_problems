{
 "cells": [
  {
   "cell_type": "code",
   "execution_count": 1,
   "metadata": {
    "collapsed": true
   },
   "outputs": [],
   "source": [
    "from collections import Counter\n",
    "\n",
    "def is_permutaion_palindromic(s):\n",
    "    c = Counter(s)\n",
    "    \n",
    "    num_odd = 0\n",
    "    for e in c.elements():\n",
    "        if c[e] % 2 != 0:\n",
    "            num_odd += 1\n",
    "    return num_odd <= 1"
   ]
  },
  {
   "cell_type": "code",
   "execution_count": 2,
   "metadata": {},
   "outputs": [
    {
     "name": "stdout",
     "output_type": "stream",
     "text": [
      "True\n",
      "False\n"
     ]
    }
   ],
   "source": [
    "print(is_permutaion_palindromic(\"carrace\"))\n",
    "print(is_permutaion_palindromic(\"month\"))"
   ]
  },
  {
   "cell_type": "code",
   "execution_count": 3,
   "metadata": {},
   "outputs": [],
   "source": [
    "def is_permutaion_palindromic2(s):\n",
    "    a = [0]*128 # 128 Ascii chars\n",
    "    \n",
    "    num_odd = 0\n",
    "    for c in s:\n",
    "        i = ord(c)\n",
    "        a[i] += 1\n",
    "        \n",
    "        if a[i] % 2 != 0:\n",
    "            num_odd += 1\n",
    "        else:\n",
    "            num_odd -= 1\n",
    "            \n",
    "    return num_odd <= 1"
   ]
  },
  {
   "cell_type": "code",
   "execution_count": 4,
   "metadata": {},
   "outputs": [
    {
     "name": "stdout",
     "output_type": "stream",
     "text": [
      "False\n",
      "True\n"
     ]
    }
   ],
   "source": [
    "print(is_permutaion_palindromic2(\"month\"))\n",
    "print(is_permutaion_palindromic2(\"carrace\"))"
   ]
  },
  {
   "cell_type": "code",
   "execution_count": null,
   "metadata": {
    "collapsed": true
   },
   "outputs": [],
   "source": []
  }
 ],
 "metadata": {
  "kernelspec": {
   "display_name": "Python 3",
   "language": "python",
   "name": "python3"
  },
  "language_info": {
   "codemirror_mode": {
    "name": "ipython",
    "version": 3
   },
   "file_extension": ".py",
   "mimetype": "text/x-python",
   "name": "python",
   "nbconvert_exporter": "python",
   "pygments_lexer": "ipython3",
   "version": "3.6.2"
  }
 },
 "nbformat": 4,
 "nbformat_minor": 2
}
