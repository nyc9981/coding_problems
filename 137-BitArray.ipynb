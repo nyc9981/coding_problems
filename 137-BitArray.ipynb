{
 "cells": [
  {
   "cell_type": "code",
   "execution_count": 1,
   "metadata": {
    "collapsed": true
   },
   "outputs": [],
   "source": [
    "bit_size_int = 32\n",
    "\n",
    "class BitArray(object):\n",
    "    def __init__(self, size):\n",
    "        self._int_list = [0] * (size//bit_size_int if size%bit_size_int==0 else size//bit_size_int+1)\n",
    "        self._size = size\n",
    "    \n",
    "    def get(self, i):\n",
    "        if i < 0 or i >= self._size:\n",
    "            raise IndexError(\"Out of Bound\")\n",
    "            \n",
    "        index_list = i//bit_size_int\n",
    "        bits_move =  i%bit_size_int\n",
    "        return (self._int_list[index_list] >> bits_move) & 1\n",
    "    \n",
    "    def set(self, i, val):\n",
    "        if i < 0 or i >= self._size:\n",
    "            raise IndexError(\"Out of Bound\")\n",
    "            \n",
    "        index_list = i//bit_size_int\n",
    "        bits_move =  i%bit_size_int\n",
    "            \n",
    "        self._int_list[index_list] ^= (-val ^ self._int_list[index_list]) & (1 << bits_move)\n",
    "        \n",
    "#         if val: \n",
    "#             self._int_list[index_list] = self._int_list[index_list] | (1 << bits_move)\n",
    "#         else:\n",
    "#             # if 1 at the bit, then set to 0\n",
    "#             if self._int_list[index_list] & (1 << bits_move): \n",
    "#                 self._int_list[index_list] = self._int_list[index_list] ^ (1 << bits_move)\n",
    "                \n",
    "    def __repr__(self):\n",
    "        return \" \".join(bin(i) for _, i in enumerate(self._int_list))\n",
    "            \n",
    "        "
   ]
  },
  {
   "cell_type": "code",
   "execution_count": 2,
   "metadata": {
    "collapsed": true
   },
   "outputs": [],
   "source": [
    "b = BitArray(33)"
   ]
  },
  {
   "cell_type": "code",
   "execution_count": 3,
   "metadata": {},
   "outputs": [
    {
     "name": "stdout",
     "output_type": "stream",
     "text": [
      "0b0 0b0\n"
     ]
    }
   ],
   "source": [
    "print(b)"
   ]
  },
  {
   "cell_type": "code",
   "execution_count": 4,
   "metadata": {},
   "outputs": [
    {
     "name": "stdout",
     "output_type": "stream",
     "text": [
      "0b0 0b1\n"
     ]
    }
   ],
   "source": [
    "b.set(32, 1)\n",
    "print(b)"
   ]
  },
  {
   "cell_type": "code",
   "execution_count": 5,
   "metadata": {},
   "outputs": [
    {
     "data": {
      "text/plain": [
       "1"
      ]
     },
     "execution_count": 5,
     "metadata": {},
     "output_type": "execute_result"
    }
   ],
   "source": [
    "b.get(32)"
   ]
  },
  {
   "cell_type": "code",
   "execution_count": 6,
   "metadata": {
    "collapsed": true
   },
   "outputs": [],
   "source": [
    "b.set(7, 1)"
   ]
  },
  {
   "cell_type": "code",
   "execution_count": 7,
   "metadata": {},
   "outputs": [
    {
     "name": "stdout",
     "output_type": "stream",
     "text": [
      "0b10000000 0b1\n"
     ]
    }
   ],
   "source": [
    "print(b)"
   ]
  },
  {
   "cell_type": "code",
   "execution_count": 8,
   "metadata": {},
   "outputs": [
    {
     "data": {
      "text/plain": [
       "1"
      ]
     },
     "execution_count": 8,
     "metadata": {},
     "output_type": "execute_result"
    }
   ],
   "source": [
    "b.get(7)"
   ]
  },
  {
   "cell_type": "code",
   "execution_count": 9,
   "metadata": {},
   "outputs": [
    {
     "name": "stdout",
     "output_type": "stream",
     "text": [
      "0b0 0b1\n"
     ]
    }
   ],
   "source": [
    "b.set(7,0)\n",
    "print(b)"
   ]
  },
  {
   "cell_type": "code",
   "execution_count": null,
   "metadata": {
    "collapsed": true
   },
   "outputs": [],
   "source": []
  }
 ],
 "metadata": {
  "kernelspec": {
   "display_name": "Python 3",
   "language": "python",
   "name": "python3"
  },
  "language_info": {
   "codemirror_mode": {
    "name": "ipython",
    "version": 3
   },
   "file_extension": ".py",
   "mimetype": "text/x-python",
   "name": "python",
   "nbconvert_exporter": "python",
   "pygments_lexer": "ipython3",
   "version": "3.6.2"
  }
 },
 "nbformat": 4,
 "nbformat_minor": 2
}
