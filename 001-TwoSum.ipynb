{
 "cells": [
  {
   "cell_type": "code",
   "execution_count": 1,
   "metadata": {
    "collapsed": true
   },
   "outputs": [],
   "source": [
    "def two_sum(arr, s):\n",
    "    seen = set()\n",
    "    \n",
    "    for e in arr:\n",
    "        if s-e in seen:\n",
    "            return True\n",
    "        seen.add(e)\n",
    "    return False"
   ]
  },
  {
   "cell_type": "code",
   "execution_count": 2,
   "metadata": {
    "collapsed": true
   },
   "outputs": [],
   "source": [
    "def two_sum_index(arr, s):\n",
    "    seen = {}\n",
    "    \n",
    "    for i, e in enumerate(arr):\n",
    "        if s-e in seen:\n",
    "            return (seen[s-e], i)\n",
    "        seen[e] = i\n",
    "    return None"
   ]
  },
  {
   "cell_type": "code",
   "execution_count": 5,
   "metadata": {},
   "outputs": [
    {
     "name": "stdout",
     "output_type": "stream",
     "text": [
      "Sum is 0: False\n",
      "Sum is 1: False\n",
      "Sum is 2: False\n",
      "Sum is 3: False\n",
      "Sum is 4: False\n",
      "Sum is 5: False\n",
      "Sum is 6: False\n",
      "Sum is 7: False\n",
      "Sum is 8: True\n",
      "Sum is 9: True\n",
      "Sum is 10: True\n",
      "Sum is 11: True\n",
      "Sum is 12: True\n",
      "Sum is 13: True\n",
      "Sum is 14: True\n",
      "Sum is 15: True\n"
     ]
    }
   ],
   "source": [
    "arr = [3, 7, 5, 6, 8]\n",
    "\n",
    "for i in range(2*max(arr)):\n",
    "    print(f'Sum is {i}: {two_sum(arr, i)}')"
   ]
  },
  {
   "cell_type": "code",
   "execution_count": 6,
   "metadata": {},
   "outputs": [
    {
     "name": "stdout",
     "output_type": "stream",
     "text": [
      "Sum is 0: None\n",
      "Sum is 1: None\n",
      "Sum is 2: None\n",
      "Sum is 3: None\n",
      "Sum is 4: None\n",
      "Sum is 5: None\n",
      "Sum is 6: None\n",
      "Sum is 7: None\n",
      "Sum is 8: (0, 2)\n",
      "Sum is 9: (0, 3)\n",
      "Sum is 10: (0, 1)\n",
      "Sum is 11: (2, 3)\n",
      "Sum is 12: (1, 2)\n",
      "Sum is 13: (1, 3)\n",
      "Sum is 14: (3, 4)\n",
      "Sum is 15: (1, 4)\n"
     ]
    }
   ],
   "source": [
    "arr = [3, 7, 5, 6, 8]\n",
    "\n",
    "for i in range(2*max(arr)):\n",
    "    print(f'Sum is {i}: {two_sum_index(arr, i)}')"
   ]
  },
  {
   "cell_type": "code",
   "execution_count": null,
   "metadata": {
    "collapsed": true
   },
   "outputs": [],
   "source": []
  }
 ],
 "metadata": {
  "kernelspec": {
   "display_name": "Python 3",
   "language": "python",
   "name": "python3"
  },
  "language_info": {
   "codemirror_mode": {
    "name": "ipython",
    "version": 3
   },
   "file_extension": ".py",
   "mimetype": "text/x-python",
   "name": "python",
   "nbconvert_exporter": "python",
   "pygments_lexer": "ipython3",
   "version": "3.6.2"
  }
 },
 "nbformat": 4,
 "nbformat_minor": 2
}
