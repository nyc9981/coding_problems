{
 "cells": [
  {
   "cell_type": "code",
   "execution_count": 1,
   "metadata": {
    "collapsed": true
   },
   "outputs": [],
   "source": [
    "from math import log\n",
    "import random\n",
    "\n",
    "# number of times all coins are flipped until only 1 coin is left being head \n",
    "# if tail coins are removed at each round\n",
    "def flip_coins(n, sim=0):\n",
    "    if not sim:\n",
    "        return int(log(n, 2))\n",
    "    \n",
    "    counts = []\n",
    "    for i in range(sim):\n",
    "        m = n\n",
    "        count = 0\n",
    "        while m != 1:\n",
    "            m = sum(random.randint(0,1) for i in range(m))\n",
    "            count += 1\n",
    "            if m==0:\n",
    "                count = 0\n",
    "                m = n\n",
    "        counts.append(count)\n",
    "            \n",
    "    print(counts)        \n",
    "    return int(sum(counts) / len(counts))\n"
   ]
  },
  {
   "cell_type": "code",
   "execution_count": 2,
   "metadata": {},
   "outputs": [
    {
     "data": {
      "text/plain": [
       "6"
      ]
     },
     "execution_count": 2,
     "metadata": {},
     "output_type": "execute_result"
    }
   ],
   "source": [
    "flip_coins(100)"
   ]
  },
  {
   "cell_type": "code",
   "execution_count": 3,
   "metadata": {},
   "outputs": [
    {
     "name": "stdout",
     "output_type": "stream",
     "text": [
      "[8, 7, 7, 6, 9, 5, 6, 5, 5, 6, 6, 7, 6, 6, 7, 6, 5, 5, 9, 7, 6, 8, 7, 6, 6, 6, 5, 8, 7, 10, 7, 6, 6, 7, 6, 8, 8, 6, 8, 7, 8, 6, 6, 7, 5, 7, 8, 6, 7, 6, 9, 7, 7, 5, 6, 7, 5, 8, 6, 6, 5, 7, 7, 6, 5, 5, 7, 7, 6, 6, 6, 5, 5, 5, 5, 8, 6, 6, 8, 7, 7, 5, 8, 6, 11, 5, 6, 5, 8, 6, 6, 7, 6, 7, 6, 7, 7, 7, 5, 7]\n"
     ]
    },
    {
     "data": {
      "text/plain": [
       "6"
      ]
     },
     "execution_count": 3,
     "metadata": {},
     "output_type": "execute_result"
    }
   ],
   "source": [
    "flip_coins(100, sim=100)"
   ]
  },
  {
   "cell_type": "code",
   "execution_count": null,
   "metadata": {
    "collapsed": true
   },
   "outputs": [],
   "source": []
  }
 ],
 "metadata": {
  "kernelspec": {
   "display_name": "Python 3",
   "language": "python",
   "name": "python3"
  },
  "language_info": {
   "codemirror_mode": {
    "name": "ipython",
    "version": 3
   },
   "file_extension": ".py",
   "mimetype": "text/x-python",
   "name": "python",
   "nbconvert_exporter": "python",
   "pygments_lexer": "ipython3",
   "version": "3.6.2"
  }
 },
 "nbformat": 4,
 "nbformat_minor": 2
}
