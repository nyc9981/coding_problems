{
 "cells": [
  {
   "cell_type": "code",
   "execution_count": 1,
   "metadata": {
    "collapsed": true
   },
   "outputs": [],
   "source": [
    "class TwoStackQueue():\n",
    "    def __init__(self):\n",
    "        self.in_stack = []\n",
    "        self.out_stack = []\n",
    "        \n",
    "    def enqueue(self, ele):\n",
    "        self.in_stack.append(ele)\n",
    "        \n",
    "    def dequeue(self):\n",
    "        if self.out_stack:\n",
    "            return self.out_stack.pop()\n",
    "        if self.in_stack:\n",
    "            while self.in_stack:\n",
    "                self.out_stack.append(self.in_stack.pop())\n",
    "            return self.out_stack.pop()\n",
    "        \n",
    "        return None"
   ]
  },
  {
   "cell_type": "code",
   "execution_count": null,
   "metadata": {
    "collapsed": true
   },
   "outputs": [],
   "source": []
  }
 ],
 "metadata": {
  "kernelspec": {
   "display_name": "Python 3",
   "language": "python",
   "name": "python3"
  },
  "language_info": {
   "codemirror_mode": {
    "name": "ipython",
    "version": 3
   },
   "file_extension": ".py",
   "mimetype": "text/x-python",
   "name": "python",
   "nbconvert_exporter": "python",
   "pygments_lexer": "ipython3",
   "version": "3.6.2"
  }
 },
 "nbformat": 4,
 "nbformat_minor": 2
}
