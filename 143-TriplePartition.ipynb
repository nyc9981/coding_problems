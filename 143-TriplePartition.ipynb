{
 "cells": [
  {
   "cell_type": "code",
   "execution_count": 1,
   "metadata": {
    "collapsed": true
   },
   "outputs": [],
   "source": [
    "def triple_partition_one_pass(a, x):\n",
    "    i, j, k = 0, 0, len(a)-1\n",
    "    \n",
    "    while j < k:\n",
    "        if a[j] < x:\n",
    "            a[i], a[j] = a[j], a[i]\n",
    "            i += 1\n",
    "            j += 1\n",
    "        elif a[j] == x:\n",
    "            j += 1\n",
    "        else:\n",
    "            a[k], a[j] = a[j], a[k]\n",
    "            j += 1\n",
    "            k -= 1\n",
    "    return a\n"
   ]
  },
  {
   "cell_type": "code",
   "execution_count": 2,
   "metadata": {},
   "outputs": [
    {
     "data": {
      "text/plain": [
       "[9, 3, 5, 10, 10, 14, 12]"
      ]
     },
     "execution_count": 2,
     "metadata": {},
     "output_type": "execute_result"
    }
   ],
   "source": [
    "a = [9, 12, 3, 5, 14, 10, 10]\n",
    "triple_partition_one_pass(a, 10)"
   ]
  },
  {
   "cell_type": "code",
   "execution_count": 3,
   "metadata": {
    "collapsed": true
   },
   "outputs": [],
   "source": [
    "def triple_partition_two_passes(a, x):\n",
    "    i, j = 0, len(a)-1\n",
    "    \n",
    "    while i < j:\n",
    "        if a[i] < x:\n",
    "            i += 1\n",
    "        if a[j] >= x:\n",
    "            j -= 1\n",
    "        if a[i] >= x and a[j] < x:\n",
    "            a[i], a[j] = a[j], a[i]\n",
    "            i += 1\n",
    "            j -= 1\n",
    "    \n",
    "    #rint(i, j)\n",
    "    #print(a)\n",
    "    \n",
    "    #reset j\n",
    "    #j = len(a)-1\n",
    "    i, j = 0, len(a)-1\n",
    "    \n",
    "    while i < j:\n",
    "        if a[i] <= x:\n",
    "            i += 1\n",
    "        if a[j] > x:\n",
    "            j -= 1\n",
    "        if a[i] > x and a[j] <= x:\n",
    "            a[i], a[j] = a[j], a[i]\n",
    "            i += 1\n",
    "            j -= 1\n",
    "        \n",
    "    return a"
   ]
  },
  {
   "cell_type": "code",
   "execution_count": 4,
   "metadata": {},
   "outputs": [
    {
     "data": {
      "text/plain": [
       "[9, 5, 3, 10, 10, 14, 12]"
      ]
     },
     "execution_count": 4,
     "metadata": {},
     "output_type": "execute_result"
    }
   ],
   "source": [
    "a = [9, 12, 3, 5, 14, 10, 10]\n",
    "triple_partition_two_passes(a, 10)"
   ]
  },
  {
   "cell_type": "code",
   "execution_count": null,
   "metadata": {
    "collapsed": true
   },
   "outputs": [],
   "source": []
  }
 ],
 "metadata": {
  "kernelspec": {
   "display_name": "Python 3",
   "language": "python",
   "name": "python3"
  },
  "language_info": {
   "codemirror_mode": {
    "name": "ipython",
    "version": 3
   },
   "file_extension": ".py",
   "mimetype": "text/x-python",
   "name": "python",
   "nbconvert_exporter": "python",
   "pygments_lexer": "ipython3",
   "version": "3.6.2"
  }
 },
 "nbformat": 4,
 "nbformat_minor": 2
}
