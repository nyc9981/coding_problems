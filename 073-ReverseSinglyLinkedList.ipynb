{
 "cells": [
  {
   "cell_type": "code",
   "execution_count": null,
   "metadata": {
    "collapsed": true
   },
   "outputs": [],
   "source": [
    "# assume head is singly linked list: node, next\n",
    "def reverse_singly_linked_list(head):\n",
    "    if head: # not empty \n",
    "        curr = head.next\n",
    "        while curr:\n",
    "            temp = curr.next\n",
    "            curr.next = head\n",
    "            head = curr\n",
    "            curr = temp"
   ]
  }
 ],
 "metadata": {
  "kernelspec": {
   "display_name": "Python 3",
   "language": "python",
   "name": "python3"
  },
  "language_info": {
   "codemirror_mode": {
    "name": "ipython",
    "version": 3
   },
   "file_extension": ".py",
   "mimetype": "text/x-python",
   "name": "python",
   "nbconvert_exporter": "python",
   "pygments_lexer": "ipython3",
   "version": "3.6.2"
  }
 },
 "nbformat": 4,
 "nbformat_minor": 2
}
