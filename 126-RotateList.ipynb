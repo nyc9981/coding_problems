{
 "cells": [
  {
   "cell_type": "code",
   "execution_count": 1,
   "metadata": {
    "collapsed": true
   },
   "outputs": [],
   "source": [
    "def rotate_list(a, r):\n",
    "    r = r%len(a)\n",
    "    if r > 0:\n",
    "        for _ in range(r):\n",
    "            for j in range(len(a)-1, 0, -1):\n",
    "                a[j], a[j-1] = a[j-1], a[j]"
   ]
  },
  {
   "cell_type": "code",
   "execution_count": 2,
   "metadata": {},
   "outputs": [
    {
     "name": "stdout",
     "output_type": "stream",
     "text": [
      "[4, 5, 6, 7, 1, 2, 3]\n"
     ]
    }
   ],
   "source": [
    "a = [1, 2, 3, 4, 5, 6, 7]\n",
    "rotate_list(a, 4)\n",
    "print(a)"
   ]
  },
  {
   "cell_type": "code",
   "execution_count": 3,
   "metadata": {
    "collapsed": true
   },
   "outputs": [],
   "source": [
    "def rotate_list_by_reverse(a, r):\n",
    "    size = len(a)\n",
    "    r = r%len(a)\n",
    "    if r > 0:\n",
    "        reverse_list(a, 0, size-r)\n",
    "        reverse_list(a, size-r, size)\n",
    "        reverse_list(a, 0, size)\n",
    "    \n",
    "def reverse_list(a, start, end):\n",
    "    for i in range((end-start)//2):\n",
    "        a[start+i], a[end-i-1] = a[end-i-1], a[start+i]\n"
   ]
  },
  {
   "cell_type": "code",
   "execution_count": 4,
   "metadata": {},
   "outputs": [
    {
     "name": "stdout",
     "output_type": "stream",
     "text": [
      "[4, 5, 6, 7, 1, 2, 3]\n"
     ]
    }
   ],
   "source": [
    "a = [1, 2, 3, 4, 5, 6, 7]\n",
    "rotate_list_by_reverse(a, 4)\n",
    "print(a)"
   ]
  },
  {
   "cell_type": "code",
   "execution_count": 5,
   "metadata": {
    "collapsed": true
   },
   "outputs": [],
   "source": [
    "def rotate_list_1(a, r):\n",
    "    size = len(a)\n",
    "    r = r%size\n",
    "    \n",
    "    if r>0: \n",
    "        half_rs = [r//2, r-r//2]\n",
    "        for half_r in half_rs:\n",
    "            for j in range(1, size//half_r+1):\n",
    "                for i in range(half_r):\n",
    "                    x = (i+j*half_r)%size\n",
    "                    a[i], a[x] = a[x], a[i]"
   ]
  },
  {
   "cell_type": "code",
   "execution_count": 6,
   "metadata": {},
   "outputs": [
    {
     "name": "stdout",
     "output_type": "stream",
     "text": [
      "[4, 5, 6, 7, 1, 2, 3]\n"
     ]
    }
   ],
   "source": [
    "a = [1, 2, 3, 4, 5, 6, 7]\n",
    "rotate_list_1(a, 4)\n",
    "print(a)"
   ]
  },
  {
   "cell_type": "code",
   "execution_count": null,
   "metadata": {
    "collapsed": true
   },
   "outputs": [],
   "source": []
  }
 ],
 "metadata": {
  "kernelspec": {
   "display_name": "Python 3",
   "language": "python",
   "name": "python3"
  },
  "language_info": {
   "codemirror_mode": {
    "name": "ipython",
    "version": 3
   },
   "file_extension": ".py",
   "mimetype": "text/x-python",
   "name": "python",
   "nbconvert_exporter": "python",
   "pygments_lexer": "ipython3",
   "version": "3.6.2"
  }
 },
 "nbformat": 4,
 "nbformat_minor": 2
}
