{
 "cells": [
  {
   "cell_type": "code",
   "execution_count": 1,
   "metadata": {
    "collapsed": true
   },
   "outputs": [],
   "source": [
    "def reverse_polish_notation(expr):\n",
    "    operators = \"+-*/\"\n",
    "    \n",
    "    stack = []\n",
    "    for e in expr:\n",
    "        if str(e) not in operators:\n",
    "            stack.append(e)\n",
    "        else:\n",
    "            right_operand = stack.pop()\n",
    "            left_operand = stack.pop()\n",
    "            if e == '+':\n",
    "                stack.append(left_operand + right_operand)\n",
    "            elif e == '-':\n",
    "                stack.append(left_operand - right_operand)\n",
    "            elif e == '*':\n",
    "                stack.append(left_operand * right_operand)\n",
    "            elif e == '/':\n",
    "                stack.append(left_operand / right_operand)\n",
    "    \n",
    "    return stack[0]\n"
   ]
  },
  {
   "cell_type": "code",
   "execution_count": 2,
   "metadata": {},
   "outputs": [
    {
     "data": {
      "text/plain": [
       "8"
      ]
     },
     "execution_count": 2,
     "metadata": {},
     "output_type": "execute_result"
    }
   ],
   "source": [
    "expr2 = [15, 7, '-']\n",
    "reverse_polish_notation(expr2)"
   ]
  },
  {
   "cell_type": "code",
   "execution_count": 3,
   "metadata": {},
   "outputs": [
    {
     "data": {
      "text/plain": [
       "5.0"
      ]
     },
     "execution_count": 3,
     "metadata": {},
     "output_type": "execute_result"
    }
   ],
   "source": [
    "expr = [15, 7, 1, 1, '+', '-', '/', 3, '*', 2, 1, 1, '+', '+', '-']\n",
    "reverse_polish_notation(expr)"
   ]
  },
  {
   "cell_type": "code",
   "execution_count": null,
   "metadata": {
    "collapsed": true
   },
   "outputs": [],
   "source": []
  }
 ],
 "metadata": {
  "kernelspec": {
   "display_name": "Python 3",
   "language": "python",
   "name": "python3"
  },
  "language_info": {
   "codemirror_mode": {
    "name": "ipython",
    "version": 3
   },
   "file_extension": ".py",
   "mimetype": "text/x-python",
   "name": "python",
   "nbconvert_exporter": "python",
   "pygments_lexer": "ipython3",
   "version": "3.6.2"
  }
 },
 "nbformat": 4,
 "nbformat_minor": 2
}
