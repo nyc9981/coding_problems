{
 "cells": [
  {
   "cell_type": "code",
   "execution_count": 1,
   "metadata": {
    "collapsed": true
   },
   "outputs": [],
   "source": [
    "def is_positive_int(s):\n",
    "    return s.isdigit() and not s.startswith('0') \n",
    "\n",
    "def is_negative_int(s):\n",
    "    return s.startswith('-') and is_positive_int(s[1:])\n",
    "\n",
    "def is_int(s):\n",
    "    return is_positive_int(s) or  is_negative_int(s)\n",
    "\n",
    "def is_postive_decimal(s):\n",
    "    if s.count('.') != 1:\n",
    "        return False\n",
    "    \n",
    "    s1, s2 = s.split('.')\n",
    "    return is_positive_int(s1) and is_positive_int(s2)\n",
    "\n",
    "def is_negative_decimal(s):\n",
    "    return s.startswith('-') and is_postive_decimal(s[1:])\n",
    "\n",
    "def is_decimal(s):\n",
    "    return is_postive_decimal(s) or is_negative_decimal(s)\n",
    "\n",
    "def is_scientific_number(s):\n",
    "    if s.count('e') != 1:\n",
    "        return False\n",
    "    \n",
    "    s1, s2 = s.split('e')\n",
    "    return (is_int(s1) or is_decimal(s1)) and is_int(s2)\n",
    "    \n",
    "def is_number(s):\n",
    "    return is_int(s) or is_decimal(s) or is_scientific_number(s)\n",
    "        "
   ]
  },
  {
   "cell_type": "code",
   "execution_count": 2,
   "metadata": {},
   "outputs": [
    {
     "name": "stdout",
     "output_type": "stream",
     "text": [
      "10 is a number\n",
      "-10 is a number\n",
      "10.11 is a number\n",
      "-10.11 is a number\n",
      "1e5 is a number\n",
      "1e-5 is a number\n",
      "-1.3e5 is a number\n",
      "a is not a number\n",
      "- is not a number\n",
      "x 2 is not a number\n",
      "x -3 is not a number\n"
     ]
    }
   ],
   "source": [
    "strings = ['10', '-10', '10.11', '-10.11', '1e5', '1e-5', '-1.3e5', 'a', '-', 'x 2', 'x -3']\n",
    "for s in strings:\n",
    "    yn = '' if is_number(s) else 'not '\n",
    "    print(f\"{s} is {yn}a number\")"
   ]
  },
  {
   "cell_type": "code",
   "execution_count": null,
   "metadata": {
    "collapsed": true
   },
   "outputs": [],
   "source": []
  }
 ],
 "metadata": {
  "kernelspec": {
   "display_name": "Python 3",
   "language": "python",
   "name": "python3"
  },
  "language_info": {
   "codemirror_mode": {
    "name": "ipython",
    "version": 3
   },
   "file_extension": ".py",
   "mimetype": "text/x-python",
   "name": "python",
   "nbconvert_exporter": "python",
   "pygments_lexer": "ipython3",
   "version": "3.6.2"
  }
 },
 "nbformat": 4,
 "nbformat_minor": 2
}
