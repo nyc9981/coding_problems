{
 "cells": [
  {
   "cell_type": "code",
   "execution_count": 1,
   "metadata": {
    "collapsed": true
   },
   "outputs": [],
   "source": [
    "def nearest_larger_neighbor(a, i):\n",
    "    j, k = i-1, i+1\n",
    "    \n",
    "    while not (j<0 and k>len(a)-1):\n",
    "        if k <= len(a)-1:\n",
    "            if a[k] > a[i]:\n",
    "                return k  \n",
    "            else:\n",
    "                k += 1\n",
    "                \n",
    "        if j >= 0:\n",
    "            if a[j] > a[i]:\n",
    "                return j\n",
    "            else:\n",
    "                j -= 1\n",
    "                   \n",
    "    return None"
   ]
  },
  {
   "cell_type": "code",
   "execution_count": 2,
   "metadata": {
    "collapsed": false
   },
   "outputs": [
    {
     "name": "stdout",
     "output_type": "stream",
     "text": [
      "3\n",
      "None\n",
      "2\n"
     ]
    }
   ],
   "source": [
    "a= [4, 1, 3, 5, 6]\n",
    "print(nearest_larger_neighbor(a, 0))\n",
    "print(nearest_larger_neighbor(a, 4))\n",
    "print(nearest_larger_neighbor(a, 1))"
   ]
  },
  {
   "cell_type": "code",
   "execution_count": 3,
   "metadata": {
    "collapsed": true
   },
   "outputs": [],
   "source": [
    "def nearest_larger_neighbor2(a, i):\n",
    "    def preprocess(a):\n",
    "        cache = [None] * len(a)\n",
    "\n",
    "        for i in range(len(a) - 1):\n",
    "            if a[i] > a[i + 1]:\n",
    "                cache[i + 1] = i\n",
    "            elif a[i + 1] > a[i]:\n",
    "                cache[i] = i + 1\n",
    "\n",
    "        for i, val in enumerate(cache):\n",
    "            if val is None:\n",
    "                cache[i] = nearest_larger_neighbor(a, i)\n",
    "\n",
    "        return cache\n",
    "    \n",
    "    return preprocess(a)[i]"
   ]
  },
  {
   "cell_type": "code",
   "execution_count": 4,
   "metadata": {
    "collapsed": false
   },
   "outputs": [
    {
     "name": "stdout",
     "output_type": "stream",
     "text": [
      "3\n",
      "None\n",
      "2\n"
     ]
    }
   ],
   "source": [
    "a= [4, 1, 3, 5, 6]\n",
    "print(nearest_larger_neighbor2(a, 0))\n",
    "print(nearest_larger_neighbor2(a, 4))\n",
    "print(nearest_larger_neighbor2(a, 1))"
   ]
  },
  {
   "cell_type": "code",
   "execution_count": null,
   "metadata": {
    "collapsed": true
   },
   "outputs": [],
   "source": []
  }
 ],
 "metadata": {
  "kernelspec": {
   "display_name": "Python 2",
   "language": "python",
   "name": "python2"
  },
  "language_info": {
   "codemirror_mode": {
    "name": "ipython",
    "version": 2
   },
   "file_extension": ".py",
   "mimetype": "text/x-python",
   "name": "python",
   "nbconvert_exporter": "python",
   "pygments_lexer": "ipython2",
   "version": "2.7.13"
  }
 },
 "nbformat": 4,
 "nbformat_minor": 2
}
