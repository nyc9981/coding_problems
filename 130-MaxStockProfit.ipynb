{
 "cells": [
  {
   "cell_type": "code",
   "execution_count": 1,
   "metadata": {
    "collapsed": true
   },
   "outputs": [],
   "source": [
    "def max_profit(quotes, k, i):\n",
    "    if k==0:\n",
    "        return 0\n",
    "    if i == 0:\n",
    "        return 0\n",
    "    \n",
    "    return max(max_profit(quotes, k, i-1), \\\n",
    "              max((max_profit(quotes, k-1, j) + quotes[i] - quotes[j]) \\\n",
    "                  for j in range(i)))\n"
   ]
  },
  {
   "cell_type": "code",
   "execution_count": 2,
   "metadata": {},
   "outputs": [
    {
     "data": {
      "text/plain": [
       "8"
      ]
     },
     "execution_count": 2,
     "metadata": {},
     "output_type": "execute_result"
    }
   ],
   "source": [
    "quotes = [5, 2, 4, 0, 1, 6]\n",
    "max_profit(quotes, 2, len(quotes)-1)"
   ]
  },
  {
   "cell_type": "code",
   "execution_count": 3,
   "metadata": {
    "collapsed": true
   },
   "outputs": [],
   "source": [
    "def max_profit_mem(quotes, k, i, mem=None):\n",
    "    if mem is None:\n",
    "        mem = {}\n",
    "    \n",
    "    if (k, i) not in mem:\n",
    "        \n",
    "        if k==0 or i==0:\n",
    "            mem[(k, i)] = 0\n",
    "        else:\n",
    "            mem[(k, i)] = max(max_profit_mem(quotes, k, i-1, mem), \\\n",
    "                  max((max_profit_mem(quotes, k-1, j, mem) + quotes[i] - quotes[j]) \\\n",
    "                      for j in range(i)))\n",
    "    \n",
    "    return mem[(k, i)]"
   ]
  },
  {
   "cell_type": "code",
   "execution_count": 4,
   "metadata": {},
   "outputs": [
    {
     "data": {
      "text/plain": [
       "8"
      ]
     },
     "execution_count": 4,
     "metadata": {},
     "output_type": "execute_result"
    }
   ],
   "source": [
    "quotes = [5, 2, 4, 0, 1, 6]\n",
    "max_profit_mem(quotes, 2, len(quotes)-1)"
   ]
  },
  {
   "cell_type": "code",
   "execution_count": null,
   "metadata": {
    "collapsed": true
   },
   "outputs": [],
   "source": []
  }
 ],
 "metadata": {
  "kernelspec": {
   "display_name": "Python 3",
   "language": "python",
   "name": "python3"
  },
  "language_info": {
   "codemirror_mode": {
    "name": "ipython",
    "version": 3
   },
   "file_extension": ".py",
   "mimetype": "text/x-python",
   "name": "python",
   "nbconvert_exporter": "python",
   "pygments_lexer": "ipython3",
   "version": "3.6.2"
  }
 },
 "nbformat": 4,
 "nbformat_minor": 2
}
