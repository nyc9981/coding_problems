{
 "cells": [
  {
   "cell_type": "code",
   "execution_count": 1,
   "metadata": {
    "collapsed": true
   },
   "outputs": [],
   "source": [
    "def num_ways(mat, row=0, col=0):\n",
    "    m, n = len(mat), len(mat[0])\n",
    "    if row >= m or col >=n:\n",
    "        return 0\n",
    "    if row == m-1 and col==n-1:\n",
    "        return 1\n",
    "    if mat[row][col] == 1:\n",
    "        return 0\n",
    "    \n",
    "    return num_ways(mat, row+1, col) + num_ways(mat, row, col+1)\n",
    "        "
   ]
  },
  {
   "cell_type": "code",
   "execution_count": 2,
   "metadata": {},
   "outputs": [
    {
     "data": {
      "text/plain": [
       "2"
      ]
     },
     "execution_count": 2,
     "metadata": {},
     "output_type": "execute_result"
    }
   ],
   "source": [
    "mat = [[0, 0, 1], \n",
    "       [0, 0, 1],\n",
    "       [1, 0, 0]]\n",
    "num_ways(mat)"
   ]
  },
  {
   "cell_type": "code",
   "execution_count": 3,
   "metadata": {
    "collapsed": true
   },
   "outputs": [],
   "source": [
    "def num_ways_mem(mat, row=0, col=0, cache=None):   \n",
    "    if cache is None:\n",
    "        cache = {}\n",
    "    if (row, col) not in cache:\n",
    "        m, n = len(mat), len(mat[0])\n",
    "        if row >= m or col >=n:\n",
    "            cache[(row, col)] = 0\n",
    "        elif row == m-1 and col==n-1:\n",
    "            cache[(row, col)] = 1\n",
    "        elif mat[row][col] == 1:\n",
    "            cache[(row, col)] = 0\n",
    "        elif mat[row][col] == 0:\n",
    "            cache[(row, col)] = num_ways_mem(mat, row+1, col, cache) + num_ways_mem(mat, row, col+1, cache)\n",
    "    return cache[(row, col)]\n",
    "        "
   ]
  },
  {
   "cell_type": "code",
   "execution_count": 4,
   "metadata": {},
   "outputs": [
    {
     "data": {
      "text/plain": [
       "2"
      ]
     },
     "execution_count": 4,
     "metadata": {},
     "output_type": "execute_result"
    }
   ],
   "source": [
    "num_ways_mem(mat)"
   ]
  },
  {
   "cell_type": "code",
   "execution_count": null,
   "metadata": {
    "collapsed": true
   },
   "outputs": [],
   "source": []
  }
 ],
 "metadata": {
  "kernelspec": {
   "display_name": "Python 3",
   "language": "python",
   "name": "python3"
  },
  "language_info": {
   "codemirror_mode": {
    "name": "ipython",
    "version": 3
   },
   "file_extension": ".py",
   "mimetype": "text/x-python",
   "name": "python",
   "nbconvert_exporter": "python",
   "pygments_lexer": "ipython3",
   "version": "3.6.2"
  }
 },
 "nbformat": 4,
 "nbformat_minor": 2
}
