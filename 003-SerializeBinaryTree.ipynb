{
 "cells": [
  {
   "cell_type": "code",
   "execution_count": 1,
   "metadata": {
    "collapsed": true
   },
   "outputs": [],
   "source": [
    "class Node:\n",
    "    def __init__(self, val, left=None, right=None):\n",
    "        self.val = val\n",
    "        self.left = left\n",
    "        self.right = right"
   ]
  },
  {
   "cell_type": "code",
   "execution_count": 2,
   "metadata": {
    "collapsed": true
   },
   "outputs": [],
   "source": [
    "#inorder transversal\n",
    "def serialize(node):\n",
    "    \n",
    "    def serialize_helper(node, v):\n",
    "        if node:       \n",
    "            v.append(node.val)\n",
    "            serialize_helper(node.left, v)\n",
    "            serialize_helper(node.right, v)\n",
    "        else:\n",
    "            v.append('#')\n",
    "\n",
    "    v = []\n",
    "    serialize_helper(node, v)\n",
    "    return ' '.join(v)\n",
    "\n",
    "def deserialize(s):\n",
    "    \n",
    "    def deserialize_helper(v, i):\n",
    "        if v[i] == \"#\":\n",
    "            return None\n",
    "\n",
    "        node = Node(v[i])\n",
    "        node.left = deserialize_helper(v, i+1)\n",
    "        node.right = deserialize_helper(v, i+1)\n",
    "        return node\n",
    "    \n",
    "    v = s.split()\n",
    "    return deserialize_helper(v, 0)"
   ]
  },
  {
   "cell_type": "code",
   "execution_count": 3,
   "metadata": {},
   "outputs": [
    {
     "data": {
      "text/plain": [
       "'root left left.left # # # right # #'"
      ]
     },
     "execution_count": 3,
     "metadata": {},
     "output_type": "execute_result"
    }
   ],
   "source": [
    "node = Node('root', Node('left', Node('left.left')), Node('right'))\n",
    "serialize(node)"
   ]
  },
  {
   "cell_type": "code",
   "execution_count": 4,
   "metadata": {},
   "outputs": [
    {
     "name": "stdout",
     "output_type": "stream",
     "text": [
      "OK\n"
     ]
    }
   ],
   "source": [
    "#serialize(node)\n",
    "#node = Node('root', Node('left', Node('left.left')), Node('right'))\n",
    "#print (deserialize(serialize(node)).left.left.val == 'left.left')\n",
    "assert deserialize(serialize(node)).left.left.val == 'left.left'\n",
    "print(\"OK\")"
   ]
  },
  {
   "cell_type": "code",
   "execution_count": null,
   "metadata": {
    "collapsed": true
   },
   "outputs": [],
   "source": []
  },
  {
   "cell_type": "code",
   "execution_count": null,
   "metadata": {
    "collapsed": true
   },
   "outputs": [],
   "source": []
  }
 ],
 "metadata": {
  "kernelspec": {
   "display_name": "Python 3",
   "language": "python",
   "name": "python3"
  },
  "language_info": {
   "codemirror_mode": {
    "name": "ipython",
    "version": 3
   },
   "file_extension": ".py",
   "mimetype": "text/x-python",
   "name": "python",
   "nbconvert_exporter": "python",
   "pygments_lexer": "ipython3",
   "version": "3.6.2"
  }
 },
 "nbformat": 4,
 "nbformat_minor": 2
}
