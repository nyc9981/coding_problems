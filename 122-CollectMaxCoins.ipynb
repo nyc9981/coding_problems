{
 "cells": [
  {
   "cell_type": "code",
   "execution_count": 1,
   "metadata": {
    "collapsed": true
   },
   "outputs": [],
   "source": [
    "def collect_max_coins_cache(coin_matrix, row, col, cache=None):\n",
    "    if cache is None:\n",
    "        cache = {}\n",
    "    \n",
    "    if (row, col) not in cache:\n",
    "        num_row, num_col = len(coin_matrix), len(coin_matrix[0])\n",
    "        is_bottom, is_rightmost = (row == num_row-1, col == num_col-1)\n",
    "        \n",
    "        if is_bottom and is_rightmost:\n",
    "            cache[(row, col)] = coin_matrix[row][col]\n",
    "\n",
    "        elif is_bottom:\n",
    "            cache[(row, col)] = coin_matrix[row][col] + collect_max_coins_cache(coin_matrix, row, col+1, cache)\n",
    "\n",
    "        elif is_rightmost:\n",
    "            cache[(row, col)] = coin_matrix[row][col] + collect_max_coins_cache(coin_matrix, row+1, col, cache)\n",
    "\n",
    "        else:\n",
    "            cache[(row, col)] = coin_matrix[row][col] + max(collect_max_coins_cache(coin_matrix, row+1, col, cache), collect_max_coins_cache(coin_matrix, row, col+1, cache))\n",
    "    \n",
    "    return cache[(row, col)]"
   ]
  },
  {
   "cell_type": "code",
   "execution_count": 2,
   "metadata": {},
   "outputs": [
    {
     "data": {
      "text/plain": [
       "12"
      ]
     },
     "execution_count": 2,
     "metadata": {},
     "output_type": "execute_result"
    }
   ],
   "source": [
    "# 0 3 1 1\n",
    "# 2 0 0 4\n",
    "# 1 5 3 1\n",
    "coins = [[0, 3, 1, 1],[2, 0, 0, 4], [1, 5, 3, 1,]]\n",
    "collect_max_coins_cache(coins, 0, 0)"
   ]
  }
 ],
 "metadata": {
  "kernelspec": {
   "display_name": "Python 3",
   "language": "python",
   "name": "python3"
  },
  "language_info": {
   "codemirror_mode": {
    "name": "ipython",
    "version": 3
   },
   "file_extension": ".py",
   "mimetype": "text/x-python",
   "name": "python",
   "nbconvert_exporter": "python",
   "pygments_lexer": "ipython3",
   "version": "3.6.2"
  }
 },
 "nbformat": 4,
 "nbformat_minor": 2
}
