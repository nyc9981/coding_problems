{
 "cells": [
  {
   "cell_type": "code",
   "execution_count": 1,
   "metadata": {},
   "outputs": [],
   "source": [
    "class Node:\n",
    "    def __init__(self, val, next=None):\n",
    "        self.val = val\n",
    "        self.next = next\n",
    "        \n",
    "    def __repr__(self):\n",
    "        s = str(self.val)\n",
    "        temp = self.next\n",
    "        while temp:\n",
    "            s = s + \"-->\" + str(temp.val)\n",
    "            temp = temp.next\n",
    "        return s\n"
   ]
  },
  {
   "cell_type": "code",
   "execution_count": 2,
   "metadata": {
    "collapsed": true
   },
   "outputs": [],
   "source": [
    "def add_linked_list(n1, n2, carry=0):\n",
    "    if n1 is None and n2 is None and carry==0:\n",
    "        return None\n",
    "    \n",
    "    n1_val = n1.val if n1 else 0\n",
    "    n2_val = n2.val if n2 else 0\n",
    "    sum_n1_n2 = n1_val + n2_val + carry\n",
    "    carry = 1 if sum_n1_n2 >= 10 else 0\n",
    "    \n",
    "    n1_next = n1.next if n1 else None\n",
    "    n2_next = n2.next if n2 else None\n",
    "    \n",
    "    return Node(sum_n1_n2%10, add_linked_list(n1_next, n2_next, carry))"
   ]
  },
  {
   "cell_type": "code",
   "execution_count": 3,
   "metadata": {},
   "outputs": [
    {
     "name": "stdout",
     "output_type": "stream",
     "text": [
      "9-->5-->2\n",
      "4-->5\n",
      "3-->1-->3\n"
     ]
    }
   ],
   "source": [
    "n1 = Node(9, Node(5, Node(2)))\n",
    "print(n1)\n",
    "n2 = Node(4, Node(5))\n",
    "print(n2)\n",
    "print(add_linked_list(n1, n2))"
   ]
  },
  {
   "cell_type": "code",
   "execution_count": 4,
   "metadata": {
    "collapsed": true
   },
   "outputs": [],
   "source": [
    "def add_linked_list_2(n1, n2):\n",
    "    res = prev = None\n",
    "    t1, t2 = n1, n2 \n",
    "    carry = 0\n",
    "    \n",
    "    while t1 or t2:\n",
    "        t1_val = t1.val if t1 else 0\n",
    "        t2_val = t2.val if t2 else 0\n",
    "        s = t1_val + t2_val + carry\n",
    "        carry = 1 if s>=10 else 0\n",
    "        \n",
    "        temp = Node(s%10)\n",
    "        if res is None:\n",
    "            res = temp\n",
    "        else:\n",
    "            prev.next = temp\n",
    "        prev = temp\n",
    "\n",
    "        t1 = t1.next if t1 else None\n",
    "        t2 = t2.next if t2 else None\n",
    "        \n",
    "    if carry > 0:\n",
    "        prev.next = Node(carry)\n",
    "\n",
    "    return res"
   ]
  },
  {
   "cell_type": "code",
   "execution_count": 5,
   "metadata": {},
   "outputs": [
    {
     "name": "stdout",
     "output_type": "stream",
     "text": [
      "9-->5-->2\n",
      "4-->5\n",
      "3-->1-->3\n"
     ]
    }
   ],
   "source": [
    "n1 = Node(9, Node(5, Node(2)))\n",
    "print(n1)\n",
    "n2 = Node(4, Node(5))\n",
    "print(n2)\n",
    "print(add_linked_list_2(n1, n2))"
   ]
  },
  {
   "cell_type": "code",
   "execution_count": null,
   "metadata": {
    "collapsed": true
   },
   "outputs": [],
   "source": []
  }
 ],
 "metadata": {
  "kernelspec": {
   "display_name": "Python 3",
   "language": "python",
   "name": "python3"
  },
  "language_info": {
   "codemirror_mode": {
    "name": "ipython",
    "version": 3
   },
   "file_extension": ".py",
   "mimetype": "text/x-python",
   "name": "python",
   "nbconvert_exporter": "python",
   "pygments_lexer": "ipython3",
   "version": "3.6.2"
  }
 },
 "nbformat": 4,
 "nbformat_minor": 2
}
