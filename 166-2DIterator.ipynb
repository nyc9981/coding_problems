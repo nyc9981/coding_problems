{
 "cells": [
  {
   "cell_type": "code",
   "execution_count": 3,
   "metadata": {
    "collapsed": true
   },
   "outputs": [],
   "source": [
    "class Iter2D:\n",
    "    def __init__(self, lst_2d):\n",
    "        self._lst_2d = lst_2d\n",
    "        self._i = None\n",
    "        self._j = None\n",
    "\n",
    "    def __iter__(self):\n",
    "        return self\n",
    "\n",
    "    def __len__(self):\n",
    "        return sum(len(a) for a in self._lst_2d)\n",
    "    \n",
    "    def _next_indexes(self, i, j):\n",
    "        # None or empty list\n",
    "        if not self._lst_2d:\n",
    "            return None\n",
    "        \n",
    "        # find the first indexes\n",
    "        if i is None and j is None:\n",
    "            i = 0\n",
    "            while i < len(self._lst_2d):\n",
    "                if self._lst_2d[i]:\n",
    "                    return i, 0\n",
    "                i += 1\n",
    "            return None\n",
    "        \n",
    "        # if the current list has one or more element\n",
    "        # then move to next element in the list\n",
    "        if j < len(self._lst_2d[i])-1:\n",
    "            return i, j+1\n",
    "        \n",
    "        # move to the first element of next list if the next list \n",
    "        # exists and is not empty\n",
    "        i += 1\n",
    "        while i < len(self._lst_2d):\n",
    "            if self._lst_2d[i]:\n",
    "                return i, 0\n",
    "            i += 1\n",
    "        return None\n",
    "            \n",
    "    \n",
    "    def has_next(self): \n",
    "        return self._next_indexes(self._i, self._j) is not None\n",
    "        \n",
    "    \n",
    "    def __next__(self): \n",
    "        next_indexes = self._next_indexes(self._i, self._j)\n",
    "\n",
    "        if next_indexes:\n",
    "            self._i, self._j = next_indexes\n",
    "            return self._lst_2d[self._i][self._j]\n",
    "        \n",
    "        raise StopIteration(\"No more elements\")"
   ]
  },
  {
   "cell_type": "code",
   "execution_count": 4,
   "metadata": {},
   "outputs": [
    {
     "name": "stdout",
     "output_type": "stream",
     "text": [
      "1\n",
      "2\n",
      "3\n",
      "4\n",
      "5\n",
      "6\n"
     ]
    },
    {
     "ename": "Exception",
     "evalue": "No more elements",
     "output_type": "error",
     "traceback": [
      "\u001b[0;31m---------------------------------------------------------------------------\u001b[0m",
      "\u001b[0;31mException\u001b[0m                                 Traceback (most recent call last)",
      "\u001b[0;32m<ipython-input-4-10bcf0993957>\u001b[0m in \u001b[0;36m<module>\u001b[0;34m()\u001b[0m\n\u001b[1;32m      7\u001b[0m \u001b[0mprint\u001b[0m\u001b[0;34m(\u001b[0m\u001b[0mnext\u001b[0m\u001b[0;34m(\u001b[0m\u001b[0md2\u001b[0m\u001b[0;34m)\u001b[0m\u001b[0;34m)\u001b[0m\u001b[0;34m\u001b[0m\u001b[0m\n\u001b[1;32m      8\u001b[0m \u001b[0mprint\u001b[0m\u001b[0;34m(\u001b[0m\u001b[0mnext\u001b[0m\u001b[0;34m(\u001b[0m\u001b[0md2\u001b[0m\u001b[0;34m)\u001b[0m\u001b[0;34m)\u001b[0m\u001b[0;34m\u001b[0m\u001b[0m\n\u001b[0;32m----> 9\u001b[0;31m \u001b[0mprint\u001b[0m\u001b[0;34m(\u001b[0m\u001b[0mnext\u001b[0m\u001b[0;34m(\u001b[0m\u001b[0md2\u001b[0m\u001b[0;34m)\u001b[0m\u001b[0;34m)\u001b[0m\u001b[0;34m\u001b[0m\u001b[0m\n\u001b[0m",
      "\u001b[0;32m<ipython-input-3-f98f7e68dc72>\u001b[0m in \u001b[0;36m__next__\u001b[0;34m(self)\u001b[0m\n\u001b[1;32m     51\u001b[0m             \u001b[0;32mreturn\u001b[0m \u001b[0mself\u001b[0m\u001b[0;34m.\u001b[0m\u001b[0m_lst_2d\u001b[0m\u001b[0;34m[\u001b[0m\u001b[0mself\u001b[0m\u001b[0;34m.\u001b[0m\u001b[0m_i\u001b[0m\u001b[0;34m]\u001b[0m\u001b[0;34m[\u001b[0m\u001b[0mself\u001b[0m\u001b[0;34m.\u001b[0m\u001b[0m_j\u001b[0m\u001b[0;34m]\u001b[0m\u001b[0;34m\u001b[0m\u001b[0m\n\u001b[1;32m     52\u001b[0m \u001b[0;34m\u001b[0m\u001b[0m\n\u001b[0;32m---> 53\u001b[0;31m         \u001b[0;32mraise\u001b[0m \u001b[0mException\u001b[0m\u001b[0;34m(\u001b[0m\u001b[0;34m\"No more elements\"\u001b[0m\u001b[0;34m)\u001b[0m\u001b[0;34m\u001b[0m\u001b[0m\n\u001b[0m",
      "\u001b[0;31mException\u001b[0m: No more elements"
     ]
    }
   ],
   "source": [
    "a = [[1, 2], [3], [], [4, 5, 6]]\n",
    "d2 = Iter2D(a)\n",
    "print(next(d2))\n",
    "print(next(d2))\n",
    "print(next(d2))\n",
    "print(next(d2))\n",
    "print(next(d2))\n",
    "print(next(d2))\n",
    "print(next(d2))"
   ]
  },
  {
   "cell_type": "code",
   "execution_count": null,
   "metadata": {
    "collapsed": true
   },
   "outputs": [],
   "source": []
  }
 ],
 "metadata": {
  "kernelspec": {
   "display_name": "Python 3",
   "language": "python",
   "name": "python3"
  },
  "language_info": {
   "codemirror_mode": {
    "name": "ipython",
    "version": 3
   },
   "file_extension": ".py",
   "mimetype": "text/x-python",
   "name": "python",
   "nbconvert_exporter": "python",
   "pygments_lexer": "ipython3",
   "version": "3.6.2"
  }
 },
 "nbformat": 4,
 "nbformat_minor": 2
}
