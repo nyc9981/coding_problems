{
 "cells": [
  {
   "cell_type": "code",
   "execution_count": 1,
   "metadata": {
    "collapsed": true
   },
   "outputs": [],
   "source": [
    "def first_recurring_char(s):\n",
    "    seen = set()\n",
    "    \n",
    "    for c in s:\n",
    "        if c in seen:\n",
    "            return c\n",
    "        seen.add(c)\n",
    "        \n",
    "    return None"
   ]
  },
  {
   "cell_type": "code",
   "execution_count": 2,
   "metadata": {
    "collapsed": true
   },
   "outputs": [],
   "source": [
    "def first_recurring_char_bits(s):\n",
    "    check_bits = 0\n",
    "    \n",
    "    for c in s:\n",
    "        v = ord(c) - ord('a')\n",
    "        # check if the corresponding bit is set\n",
    "        if check_bits & (1 << v):\n",
    "            return c\n",
    "        # else set the bit\n",
    "        check_bits |= (1 << v)\n",
    "        \n",
    "    return None"
   ]
  },
  {
   "cell_type": "code",
   "execution_count": 3,
   "metadata": {},
   "outputs": [
    {
     "name": "stdout",
     "output_type": "stream",
     "text": [
      "c\n",
      "c\n"
     ]
    }
   ],
   "source": [
    "print(first_recurring_char('ancdecdf'))\n",
    "print(first_recurring_char_bits('ancdecdf'))"
   ]
  },
  {
   "cell_type": "code",
   "execution_count": null,
   "metadata": {
    "collapsed": true
   },
   "outputs": [],
   "source": []
  }
 ],
 "metadata": {
  "kernelspec": {
   "display_name": "Python 3",
   "language": "python",
   "name": "python3"
  },
  "language_info": {
   "codemirror_mode": {
    "name": "ipython",
    "version": 3
   },
   "file_extension": ".py",
   "mimetype": "text/x-python",
   "name": "python",
   "nbconvert_exporter": "python",
   "pygments_lexer": "ipython3",
   "version": "3.6.2"
  }
 },
 "nbformat": 4,
 "nbformat_minor": 2
}
