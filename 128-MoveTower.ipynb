{
 "cells": [
  {
   "cell_type": "code",
   "execution_count": 1,
   "metadata": {
    "collapsed": true
   },
   "outputs": [],
   "source": [
    "def move_tower(n, source, dest, spare):\n",
    "    if n==1:\n",
    "        print(f'move: {source} ---> {dest}')\n",
    "    else:\n",
    "        move_tower(n-1, source, spare, dest)\n",
    "        print(f'move: {source} ---> {dest}')\n",
    "        move_tower(n-1, spare, dest, source)\n",
    "    "
   ]
  },
  {
   "cell_type": "code",
   "execution_count": 2,
   "metadata": {},
   "outputs": [
    {
     "name": "stdout",
     "output_type": "stream",
     "text": [
      "move: A ---> C\n",
      "move: A ---> B\n",
      "move: C ---> B\n",
      "move: A ---> C\n",
      "move: B ---> A\n",
      "move: B ---> C\n",
      "move: A ---> C\n",
      "move: A ---> B\n",
      "move: C ---> B\n",
      "move: C ---> A\n",
      "move: B ---> A\n",
      "move: C ---> B\n",
      "move: A ---> C\n",
      "move: A ---> B\n",
      "move: C ---> B\n"
     ]
    }
   ],
   "source": [
    " move_tower(4, \"A\", \"B\", \"C\")"
   ]
  },
  {
   "cell_type": "code",
   "execution_count": 3,
   "metadata": {
    "collapsed": true
   },
   "outputs": [],
   "source": [
    "def move_tower_2(n, source, dest, spare):\n",
    "    if n>0:\n",
    "        move_tower_2(n-1, source, spare, dest)\n",
    "        print(f'move: {source} ---> {dest}')\n",
    "        move_tower_2(n-1, spare, dest, source)"
   ]
  },
  {
   "cell_type": "code",
   "execution_count": 4,
   "metadata": {},
   "outputs": [
    {
     "name": "stdout",
     "output_type": "stream",
     "text": [
      "move: A ---> B\n"
     ]
    }
   ],
   "source": [
    " move_tower_2(1, \"A\", \"B\", \"C\")"
   ]
  },
  {
   "cell_type": "code",
   "execution_count": null,
   "metadata": {
    "collapsed": true
   },
   "outputs": [],
   "source": []
  }
 ],
 "metadata": {
  "kernelspec": {
   "display_name": "Python 3",
   "language": "python",
   "name": "python3"
  },
  "language_info": {
   "codemirror_mode": {
    "name": "ipython",
    "version": 3
   },
   "file_extension": ".py",
   "mimetype": "text/x-python",
   "name": "python",
   "nbconvert_exporter": "python",
   "pygments_lexer": "ipython3",
   "version": "3.6.2"
  }
 },
 "nbformat": 4,
 "nbformat_minor": 2
}
